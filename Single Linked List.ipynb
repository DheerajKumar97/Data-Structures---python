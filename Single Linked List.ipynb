{
 "cells": [
  {
   "cell_type": "markdown",
   "metadata": {},
   "source": [
    "<html><font size =\"6\"><b>&nbsp;&nbsp;&nbsp;&nbsp;&nbsp;&nbsp;&nbsp;&nbsp;&nbsp;&nbsp;&nbsp;&nbsp;&nbsp;&nbsp;&nbsp;&nbsp;&nbsp;&nbsp;&nbsp;&nbsp;&nbsp;&nbsp;&nbsp;&nbsp;&nbsp;&nbsp;&nbsp;&nbsp;&nbsp;&nbsp;&nbsp;&nbsp;&nbsp;&nbsp;&nbsp;Data Structures Part 1</b></font></html>"
   ]
  },
  {
   "cell_type": "markdown",
   "metadata": {},
   "source": [
    "# Linked List\n",
    "\n",
    "## What are Linked Lists?\n",
    "\n",
    "**The linked list is just a very simple linear data structure that represents a sequence of nodes.\n",
    "Image for post**\n",
    "\n",
    "Linked list is a **linear data structure implemented in Python using Object-Oriented Programming** a linked list is a data structure consisting of a **group of nodes which together represent a sequence**. Under the simplest form, each node is composed of a datum and a reference (in other words, a link) to the next node in the sequence; more complex variants add additional links. This structure allows for **efficient insertion or removal of elements from any position in the sequence**. Singly-linked-list.svg A linked list whose nodes contain two fields: an integer value and a link to the next node. The last node is linked to a terminator used to signify the end of the list.\n",
    "\n",
    "Linked lists are among the simplest and most common data structures. They can be used to implement several other common abstract data types, including lists (the abstract data type), stacks, queues, associative arrays, and S-expressions, though it is not uncommon to implement the other data structures directly without using a list as the basis of implementation.\n",
    "\n",
    "\n",
    "## But why would we ever need Linked Lists?\n",
    "\n",
    "We all have worked with **Lists in Python**. But have you ever thought of the **insertion time** for the list data structure?\n",
    "\n",
    "Lets say we need to insert an element at the start of a list. Inserting or removing elements at the start in a python list requires an **O(n) copy operation**.\n",
    "\n",
    "What if we are faced with the problem in which there are a lot of such inserts and we need a data structure that actually does **inserts in constant O(1) time**?\n",
    "\n",
    "There are many practical applications of a linked list that you can think about. One can use a doubly-linked list to implement a system where only the location of previous and next nodes are needed. For example, the previous page and next page functionality in the chrome browser. Or the previous and next photo in a photo editor."
   ]
  },
  {
   "cell_type": "code",
   "execution_count": 94,
   "metadata": {},
   "outputs": [],
   "source": [
    "class Node_Class:\n",
    "    \n",
    "    \"\"\"\n",
    "    This is the constructor method which \n",
    "    initialize the class members\n",
    "    \"\"\"\n",
    "    \n",
    "    def __init__(self,element=None,Next_Element=None):\n",
    "        self.element = element\n",
    "        self.Next_Element = Next_Element\n",
    "        \n",
    "    \n",
    "class Linked_List:\n",
    "    \n",
    "    \"\"\"\n",
    "    This is the constructor method which \n",
    "    initialize the class members\n",
    "    \"\"\"\n",
    "    \n",
    "    def __init__(self):\n",
    "        self.First_Element = None\n",
    "    \n",
    "    \"\"\"\n",
    "    This method will insert the element in \n",
    "    the list at the zero(th) position of the list\n",
    "    \"\"\"\n",
    "    \n",
    "    def insert_at_first(self, element):\n",
    "        node = Node_Class(element, self.First_Element)\n",
    "        self.First_Element = node\n",
    "    \n",
    "    \"\"\"\n",
    "    This method will insert the element in \n",
    "    next to the zero(th) position of the list\n",
    "    \"\"\"\n",
    "        \n",
    "    def insert_next_to_first(self, element):\n",
    "        if self.First_Element is None:\n",
    "            self.First_Element = Node_Class(element, None)\n",
    "            return \n",
    "        \n",
    "    \"\"\"\n",
    "    This method will count the elements \n",
    "    in the list and will return total count\n",
    "    \"\"\"\n",
    "    \n",
    "    def Length_of_list(self):\n",
    "        Length = 0\n",
    "        linked_list = self.First_Element\n",
    "        while linked_list:\n",
    "            Length+=1\n",
    "            linked_list = linked_list.Next_Element\n",
    "\n",
    "        return Length\n",
    "    \n",
    "    \"\"\"\n",
    "    This method will check the given index value with the\n",
    "    condition, if it correct then given index value\n",
    "    will be renoved from the Linked list\n",
    "    \"\"\"\n",
    "    \n",
    "    def Remove_Element_From_List(self, ind_val):\n",
    "        if ind_val<0 or ind_val>=self.Length_of_list():\n",
    "            raise Exception(\"Worng Index Value\")\n",
    "\n",
    "        if ind_val==0:\n",
    "            self.First_Element = self.First_Element.Next_Element\n",
    "            return\n",
    "\n",
    "        Length = 0\n",
    "        linked_list = self.First_Element\n",
    "        while linked_list:\n",
    "            if Length == ind_val - 1:\n",
    "                linked_list.Next_Element = linked_list.Next_Element.Next_Element\n",
    "                break\n",
    "\n",
    "            linked_list = linked_list.Next_Element\n",
    "            Length+=1\n",
    "    \n",
    "    \"\"\"\n",
    "    This method will display the created list\n",
    "    with the order of the element which we give \n",
    "    According to the given logic\n",
    "    \"\"\"\n",
    "    def Display_List(self):\n",
    "        if self.First_Element is None:\n",
    "            print(\"Linked list is empty\")\n",
    "            return\n",
    "        linked_list = self.First_Element\n",
    "        list_str = ''\n",
    "        while linked_list:\n",
    "            list_str += str(linked_list.element) + ' ==>> '\n",
    "            linked_list = linked_list.Next_Element\n",
    "        return list_str\n",
    "    \n",
    "\n",
    "class List_operations:\n",
    "    \n",
    "    \"\"\"\n",
    "    This is the constructor method which \n",
    "    initialize the class members\n",
    "    \"\"\"\n",
    "    \n",
    "    def __init__(self):\n",
    "        self.First_Element = None\n",
    "    \n",
    "    \"\"\"\n",
    "    This method will insert the element in \n",
    "    the list at the zero(th) position of the list\n",
    "    \"\"\"\n",
    "    \n",
    "    def insert_at_first(self, element):\n",
    "        node = Node_Class(element, self.First_Element)\n",
    "        self.First_Element = node\n",
    "    \n",
    "    def insert_values(self, listt):\n",
    "            self.First_Element = None\n",
    "            for data in listt:\n",
    "                data=self.insert_at_first(data)\n",
    "                return data\n",
    "                \n",
    "    \"\"\"\n",
    "    This method will find you the\n",
    "    maximum value of the list\n",
    "    \"\"\"\n",
    "\n",
    "    def greater_num_in_list(self,a):\n",
    "        max_val = []\n",
    "        first_val = a[0]\n",
    "        for i in a:\n",
    "            if i> first_val:\n",
    "                first_val = i\n",
    "        return [first_val]\n",
    "        \n",
    "    \"\"\"\n",
    "    This method will find you the\n",
    "    minimum value of the list\n",
    "    \"\"\"\n",
    "        \n",
    "    def Lesser_num_in_list(self,a):\n",
    "        min_val = []\n",
    "        first_val = a[0]\n",
    "        for i in a:\n",
    "            if i< first_val:\n",
    "                first_val = i\n",
    "        return [first_val]\n",
    "    \"\"\"\n",
    "    This method will find you the\n",
    "    accending order and sort the given list\n",
    "    \"\"\"    \n",
    "        \n",
    "    def sort_list(self,x):\n",
    "        sort=[]\n",
    "        while x:\n",
    "            min = x[0]\n",
    "            for i in x:\n",
    "                if i< min:\n",
    "                    min=i\n",
    "            sort.append(min)\n",
    "            x.remove(min)\n",
    "        return sort"
   ]
  },
  {
   "cell_type": "code",
   "execution_count": 46,
   "metadata": {},
   "outputs": [],
   "source": [
    "lnkd = Linked_List()"
   ]
  },
  {
   "cell_type": "code",
   "execution_count": 47,
   "metadata": {},
   "outputs": [],
   "source": [
    "lnkd.insert_at_first(2)\n",
    "lnkd.insert_at_first(4)\n",
    "lnkd.insert_at_first(6)\n",
    "lnkd.insert_at_first(8)\n",
    "lnkd.insert_at_first(10)\n",
    "lnkd.insert_at_first(12)\n",
    "lnkd.insert_at_first(14)\n",
    "lnkd.insert_at_first(16)\n",
    "lnkd.insert_at_first(18)\n",
    "lnkd.insert_at_first(20)\n",
    "lnkd.insert_at_first(22)\n",
    "lnkd.insert_at_first(24)\n",
    "lnkd.insert_at_first(26)\n",
    "lnkd.insert_at_first(28)\n",
    "lnkd.insert_at_first(30)"
   ]
  },
  {
   "cell_type": "code",
   "execution_count": 48,
   "metadata": {},
   "outputs": [
    {
     "data": {
      "text/plain": [
       "15"
      ]
     },
     "execution_count": 48,
     "metadata": {},
     "output_type": "execute_result"
    }
   ],
   "source": [
    "lnkd.Length_of_list()"
   ]
  },
  {
   "cell_type": "code",
   "execution_count": 49,
   "metadata": {},
   "outputs": [
    {
     "data": {
      "text/plain": [
       "'30 ==>> 28 ==>> 26 ==>> 24 ==>> 22 ==>> 20 ==>> 18 ==>> 16 ==>> 14 ==>> 12 ==>> 10 ==>> 8 ==>> 6 ==>> 4 ==>> 2 ==>> '"
      ]
     },
     "execution_count": 49,
     "metadata": {},
     "output_type": "execute_result"
    }
   ],
   "source": [
    "lnkd.Display_List()"
   ]
  },
  {
   "cell_type": "code",
   "execution_count": 52,
   "metadata": {},
   "outputs": [],
   "source": [
    "lnkd.Remove_Element_From_List(8)"
   ]
  },
  {
   "cell_type": "code",
   "execution_count": 53,
   "metadata": {},
   "outputs": [
    {
     "data": {
      "text/plain": [
       "14"
      ]
     },
     "execution_count": 53,
     "metadata": {},
     "output_type": "execute_result"
    }
   ],
   "source": [
    "lnkd.Length_of_list()"
   ]
  },
  {
   "cell_type": "code",
   "execution_count": 54,
   "metadata": {},
   "outputs": [
    {
     "data": {
      "text/plain": [
       "'30 ==>> 28 ==>> 26 ==>> 24 ==>> 22 ==>> 20 ==>> 18 ==>> 16 ==>> 12 ==>> 10 ==>> 8 ==>> 6 ==>> 4 ==>> 2 ==>> '"
      ]
     },
     "execution_count": 54,
     "metadata": {},
     "output_type": "execute_result"
    }
   ],
   "source": [
    "lnkd.Display_List()"
   ]
  },
  {
   "cell_type": "code",
   "execution_count": 62,
   "metadata": {},
   "outputs": [],
   "source": [
    "s = ['n','b','p','d','l','f','g','h','i','e','k','j','m','a','c']"
   ]
  },
  {
   "cell_type": "code",
   "execution_count": 63,
   "metadata": {},
   "outputs": [],
   "source": [
    "l = List_operations()"
   ]
  },
  {
   "cell_type": "code",
   "execution_count": 64,
   "metadata": {},
   "outputs": [],
   "source": [
    "l.insert_values(s)"
   ]
  },
  {
   "cell_type": "code",
   "execution_count": 65,
   "metadata": {},
   "outputs": [
    {
     "data": {
      "text/plain": [
       "[2]"
      ]
     },
     "execution_count": 65,
     "metadata": {},
     "output_type": "execute_result"
    }
   ],
   "source": [
    "l.Maximum_of_list(s)"
   ]
  },
  {
   "cell_type": "code",
   "execution_count": 66,
   "metadata": {},
   "outputs": [
    {
     "data": {
      "text/plain": [
       "[13]"
      ]
     },
     "execution_count": 66,
     "metadata": {},
     "output_type": "execute_result"
    }
   ],
   "source": [
    "l.Minimum_of_list(s)"
   ]
  },
  {
   "cell_type": "code",
   "execution_count": 67,
   "metadata": {},
   "outputs": [
    {
     "data": {
      "text/plain": [
       "['a', 'b', 'c', 'd', 'e', 'f', 'g', 'h', 'i', 'j', 'k', 'l', 'm', 'n', 'p']"
      ]
     },
     "execution_count": 67,
     "metadata": {},
     "output_type": "execute_result"
    }
   ],
   "source": [
    "l.sort_list(s)"
   ]
  },
  {
   "cell_type": "code",
   "execution_count": 89,
   "metadata": {},
   "outputs": [],
   "source": [
    "n = [12,25,7,2,8,45,66,8,22,6,33,9,5,20]"
   ]
  },
  {
   "cell_type": "code",
   "execution_count": 95,
   "metadata": {},
   "outputs": [],
   "source": [
    "d = List_operations()"
   ]
  },
  {
   "cell_type": "code",
   "execution_count": 96,
   "metadata": {},
   "outputs": [],
   "source": [
    "d.insert_values(n)"
   ]
  },
  {
   "cell_type": "code",
   "execution_count": 97,
   "metadata": {},
   "outputs": [
    {
     "data": {
      "text/plain": [
       "[66]"
      ]
     },
     "execution_count": 97,
     "metadata": {},
     "output_type": "execute_result"
    }
   ],
   "source": [
    "d.greater_num_in_list(n)"
   ]
  },
  {
   "cell_type": "code",
   "execution_count": 99,
   "metadata": {},
   "outputs": [
    {
     "data": {
      "text/plain": [
       "[2]"
      ]
     },
     "execution_count": 99,
     "metadata": {},
     "output_type": "execute_result"
    }
   ],
   "source": [
    "d.Lesser_num_in_list(n)"
   ]
  },
  {
   "cell_type": "code",
   "execution_count": 100,
   "metadata": {},
   "outputs": [
    {
     "data": {
      "text/plain": [
       "[2, 5, 6, 7, 8, 8, 9, 12, 20, 22, 25, 33, 45, 66]"
      ]
     },
     "execution_count": 100,
     "metadata": {},
     "output_type": "execute_result"
    }
   ],
   "source": [
    "d.sort_list(n)"
   ]
  },
  {
   "cell_type": "code",
   "execution_count": null,
   "metadata": {},
   "outputs": [],
   "source": []
  }
 ],
 "metadata": {
  "kernelspec": {
   "display_name": "Python 3",
   "language": "python",
   "name": "python3"
  },
  "language_info": {
   "codemirror_mode": {
    "name": "ipython",
    "version": 3
   },
   "file_extension": ".py",
   "mimetype": "text/x-python",
   "name": "python",
   "nbconvert_exporter": "python",
   "pygments_lexer": "ipython3",
   "version": "3.7.7"
  }
 },
 "nbformat": 4,
 "nbformat_minor": 4
}
