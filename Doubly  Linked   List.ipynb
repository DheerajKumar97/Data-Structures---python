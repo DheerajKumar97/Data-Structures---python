{
 "cells": [
  {
   "cell_type": "markdown",
   "metadata": {},
   "source": [
    "<html><font size =\"6\"><b>&nbsp;&nbsp;&nbsp;&nbsp;&nbsp;&nbsp;&nbsp;&nbsp;&nbsp;&nbsp;&nbsp;&nbsp;&nbsp;&nbsp;&nbsp;&nbsp;&nbsp;&nbsp;&nbsp;&nbsp;&nbsp;&nbsp;&nbsp;&nbsp;&nbsp;&nbsp;&nbsp;&nbsp;&nbsp;&nbsp;&nbsp;&nbsp;&nbsp;&nbsp;&nbsp;Data Structures Part 2</b></font></html>"
   ]
  },
  {
   "cell_type": "markdown",
   "metadata": {},
   "source": [
    "# Doubly Linked List\n",
    "\n",
    "Like a singly linked list, a doubly-linked list is a linked data structure that consists of a set of sequentiallylinked records called nodes.  Unlike a singly linked list, **each node of the doubly singly list contains two fieldsthat are references to the previous and to the next node in the sequence of nodes**.  The beginning and endingnodes’ previous and next links, respectively, point to some kind of terminator, typically a sentinel node ornull, to facilitate traversal of the list.\n",
    "\n",
    "# Applications of doubly linked list \n",
    "\n",
    "There are various application of doubly linked list in the real world. Some of them can be listed as:\n",
    "\n",
    "**1)  Doubly linked list can be used in navigation systems where both front and back navigation is required.**\n",
    "<br>\n",
    "**2)  It is used by browsers to implement backward and forward navigation of visited web pages i.e. back and forward button.**\n",
    "<br>\n",
    "**3)  It is also used by various application to implement Undo and Redo functionality.**\n",
    "<br>\n",
    "**4)  It can also be used to represent deck of cards in games.**\n",
    "    <br>\n",
    "**5)  It is also used to represent various states of a game.**"
   ]
  },
  {
   "cell_type": "code",
   "execution_count": 126,
   "metadata": {},
   "outputs": [],
   "source": [
    "class Node:\n",
    "    \n",
    "    \"\"\"\n",
    "    This is the constructor method which \n",
    "    initialize the class members\n",
    "    \"\"\"\n",
    "    \n",
    "    def __init__(self, data):\n",
    "        self.data = data \n",
    "        self.Next_Element = None\n",
    "        self.Previous_Element = None\n",
    "\n",
    "\n",
    "class DoublyLinkedList:\n",
    "    \n",
    "    \"\"\"\n",
    "    This is the constructor method which \n",
    "    initialize the class members\n",
    "    \"\"\"\n",
    "    \n",
    "    def __init__(self):\n",
    "        self.First_Element = None\n",
    "        \n",
    "    \"\"\"\n",
    "    This method will insert the element in \n",
    "    the list at the Last position of the list\n",
    "    \"\"\"\n",
    "\n",
    "    def Add_Node_Last(self, data):\n",
    "        if self.First_Element is None:\n",
    "            new_node = Node(data)\n",
    "            new_node.Previous_Element = None\n",
    "            self.First_Element = new_node \n",
    "\n",
    "        else:\n",
    "            new_node = Node(data)\n",
    "            Current_Node = self.First_Element \n",
    "            while Current_Node.Next_Element:\n",
    "                Current_Node = Current_Node.Next_Element \n",
    "            Current_Node.Next_Element = new_node \n",
    "            new_node.Previous_Element = Current_Node \n",
    "            new_node.Next_Element = None\n",
    "            \n",
    "    \"\"\"\n",
    "    This method will insert the element in \n",
    "    the list at the First position of the list\n",
    "    \"\"\"\n",
    "\n",
    "    def Add_Node_First(self, data):\n",
    "        if self.First_Element is None:\n",
    "            new_node = Node(data)\n",
    "            new_node.Next_Element = self.First_Element\n",
    "            self.First_Element = new_node\n",
    "\n",
    "        else:\n",
    "            new_node = Node(data)\n",
    "            self.First_Element.Previous_Element = new_node\n",
    "            new_node.Next_Element = self.First_Element\n",
    "            self.First_Element = new_node\n",
    "            \n",
    "    \"\"\"\n",
    "    This method will insert the element in \n",
    "    the list after the give Node or Element\n",
    "    \"\"\"\n",
    "\n",
    "    def add_after_node(self, key, data):\n",
    "        Current_Node = self.First_Element\n",
    "        while Current_Node:\n",
    "            if Current_Node.Next_Element is None and Current_Node.data == key:\n",
    "                self.Add_Node_Last(data)\n",
    "            elif Current_Node.data == key:\n",
    "                new_node = Node(data)\n",
    "                nxt_Ele = Current_Node.Next_Element \n",
    "                Current_Node.Next_Element = new_node\n",
    "                new_node.Next_Element = nxt_Ele\n",
    "                nxt_Ele.Previous_Element = new_node\n",
    "            Current_Node = Current_Node.Next_Element\n",
    "            \n",
    "    \"\"\"\n",
    "    This method will insert the element in \n",
    "    the list Before the give Node or Element\n",
    "    \"\"\"\n",
    "\n",
    "    def add_before_node(self, key, data):\n",
    "        Current_Node = self.First_Element \n",
    "        while Current_Node:\n",
    "            if Current_Node.Previous_Element is None and Current_Node.data == key:\n",
    "                self.Add_Node_First(data)\n",
    "            elif Current_Node.data == key:\n",
    "                new_node = Node(data)\n",
    "                Previous_Element = Current_Node.Previous_Element\n",
    "                Previous_Element.Next_Element = new_node\n",
    "                Current_Node.Previous_Element = new_node\n",
    "                new_node.Next_Element = Current_Node\n",
    "            Current_Node = Current_Node.Next_Element\n",
    "            \n",
    "    \"\"\"\n",
    "    This method will Reverse the \n",
    "    nodes in a list \n",
    "    \"\"\"\n",
    "            \n",
    "    def Reverse(self):\n",
    "        tmp = None\n",
    "        Current_Node = self.First_Element\n",
    "        while Current_Node:\n",
    "            tmp = Current_Node.Previous_Element\n",
    "            Current_Node.Previous_Element = Current_Node.Next_Element\n",
    "            Current_Node.Next_Element = tmp\n",
    "            Current_Node = Current_Node.Previous_Element\n",
    "        if tmp:\n",
    "            self.First_Element = tmp.Previous_Element\n",
    "            \n",
    "    \"\"\"\n",
    "    This method will Maintains the order and\n",
    "    Display the Nodes present in the list\n",
    "    \"\"\"\n",
    "\n",
    "    def Display_list(self):\n",
    "        Current_Node = self.First_Element \n",
    "        while Current_Node:\n",
    "            print(Current_Node.data)\n",
    "            Current_Node = Current_Node.Next_Element\n"
   ]
  },
  {
   "cell_type": "code",
   "execution_count": 127,
   "metadata": {},
   "outputs": [],
   "source": [
    "D_Lnkd_List = DoublyLinkedList()"
   ]
  },
  {
   "cell_type": "code",
   "execution_count": 128,
   "metadata": {},
   "outputs": [],
   "source": [
    "D_Lnkd_List.Add_Node_First(3)\n",
    "D_Lnkd_List.Add_Node_Last(4)\n",
    "D_Lnkd_List.add_before_node(3,2)\n",
    "D_Lnkd_List.add_after_node(4,5)\n",
    "D_Lnkd_List.add_before_node(2,1)"
   ]
  },
  {
   "cell_type": "code",
   "execution_count": 129,
   "metadata": {},
   "outputs": [],
   "source": [
    "D_Lnkd_List.Add_Node_Last(5)\n",
    "D_Lnkd_List.Add_Node_Last(4)\n",
    "D_Lnkd_List.Add_Node_Last(3)\n",
    "D_Lnkd_List.Add_Node_Last(2)\n",
    "D_Lnkd_List.Add_Node_Last(1)\n",
    "D_Lnkd_List.Add_Node_Last(0)"
   ]
  },
  {
   "cell_type": "code",
   "execution_count": 130,
   "metadata": {},
   "outputs": [
    {
     "name": "stdout",
     "output_type": "stream",
     "text": [
      "1\n",
      "2\n",
      "3\n",
      "4\n",
      "5\n",
      "5\n",
      "4\n",
      "3\n",
      "2\n",
      "1\n",
      "0\n"
     ]
    }
   ],
   "source": [
    "D_Lnkd_List.Display_list()"
   ]
  },
  {
   "cell_type": "code",
   "execution_count": 131,
   "metadata": {},
   "outputs": [],
   "source": [
    "D_Lnkd_List.Reverse()"
   ]
  },
  {
   "cell_type": "code",
   "execution_count": 132,
   "metadata": {},
   "outputs": [
    {
     "name": "stdout",
     "output_type": "stream",
     "text": [
      "0\n",
      "1\n",
      "2\n",
      "3\n",
      "4\n",
      "5\n",
      "5\n",
      "4\n",
      "3\n",
      "2\n",
      "1\n"
     ]
    }
   ],
   "source": [
    "D_Lnkd_List.Display_list()"
   ]
  },
  {
   "cell_type": "code",
   "execution_count": null,
   "metadata": {},
   "outputs": [],
   "source": []
  }
 ],
 "metadata": {
  "kernelspec": {
   "display_name": "Python 3",
   "language": "python",
   "name": "python3"
  },
  "language_info": {
   "codemirror_mode": {
    "name": "ipython",
    "version": 3
   },
   "file_extension": ".py",
   "mimetype": "text/x-python",
   "name": "python",
   "nbconvert_exporter": "python",
   "pygments_lexer": "ipython3",
   "version": "3.7.7"
  }
 },
 "nbformat": 4,
 "nbformat_minor": 4
}
