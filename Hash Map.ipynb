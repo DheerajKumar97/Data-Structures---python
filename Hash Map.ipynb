{
 "cells": [
  {
   "cell_type": "markdown",
   "metadata": {},
   "source": [
    "# Hash Function\n",
    "\n",
    "A hash function, h(k), is a function that maps all the keys to the slots of an array. Another way to think about it is: given a key and an array, the hash function can make a suggestion as to where the index of the key should be stored in the array.\n",
    "\n",
    "# How does a hash function work?\n",
    "\n",
    "There are several hash functions that can be implemented for a Hash Table, but the most prevalent one is the Division Method, where h(k) = k mod m, for some value of m. Other hashing functions include: the Multiplication Method and the Folding Method.\n",
    "\n",
    "# What is a hash collision and how do I resolve a hash collision?\n",
    "\n",
    "So this is all good and well. But what happens when a key is hashed into the same array slot as another key? Aha! THIS is known as a hash collision. There are a few different ways of dealing with a hash collision, the most popular two ways are Open Addressing and Closed Addressing.\n",
    "\n",
    "Open addressing is when you place an item some where other than its calculated position. We do this in a calculated way, such as linear probing, where a linear search is used to find an available slot and finding an item also involves a linear search.\n",
    "\n",
    "### Advantages:\n",
    "1) Its Very to implement\n",
    "<br>\n",
    "2) Hash table never fills up, we can always add more elements to the chain.\n",
    "<br>\n",
    "3) Less sensitive to the hash function or load factors.\n",
    "\n",
    "#### Disadvantages:\n",
    "1) operations on a hash table take constant time on average.Thus hash tables are not effective when the number of entries is very small.\n",
    "<br>\n",
    "2) It is slow due to synchronization\n",
    "<br>\n",
    "2) Wastage of Space (Some Parts of hash table are never used)\n",
    "<br>\n",
    "3) If the chain becomes long, then search time can become O(n) in the worst case."
   ]
  },
  {
   "cell_type": "markdown",
   "metadata": {},
   "source": [
    "# Hash Table Collision Handling Using Chaining"
   ]
  },
  {
   "cell_type": "code",
   "execution_count": 110,
   "metadata": {},
   "outputs": [],
   "source": [
    "class Hash_Map:\n",
    "    \n",
    "    def __init__(self):\n",
    "        \n",
    "        self.size = 10\n",
    "        self.map  = [[] for i in range(self.size)]\n",
    "        \n",
    "        \n",
    "    def _Get_Hash_value(self,key):\n",
    "        \n",
    "        hash_val = 0\n",
    "        for h in str(key):\n",
    "            hash_val += ord(h)\n",
    "            return hash_val % self.size\n",
    "        \n",
    "        \n",
    "    def Add_Key(self,key,value):\n",
    "        \n",
    "        Key_Hash_Val = self._Get_Hash_value(key)\n",
    "        Key_Value    = [key,value]\n",
    "        \n",
    "        if self.map[Key_Hash_Val] is None:\n",
    "            self.map[Key_Hash_Val] = list([Key_Value])\n",
    "            return True\n",
    "            \n",
    "        else:\n",
    "            for pair in self.map[Key_Hash_Val]:\n",
    "                if pair[0]  ==  key:\n",
    "                    pair[1]  =  value\n",
    "                    return True\n",
    "            self.map[Key_Hash_Val].append(Key_Value)\n",
    "            return True\n",
    "        \n",
    "        \n",
    "    def Get_Table(self,key):\n",
    "        \n",
    "        Key_Hash_Val = self._Get_Hash_value(key)\n",
    "        if self.map[Key_Hash_Val] is not None:\n",
    "            for pair in self.map[Key_Hash_Val]:\n",
    "                if pair[0]  ==  key:\n",
    "                    return pair[1]\n",
    "        return None\n",
    "    \n",
    "    def Delete_Key(self,key):\n",
    "        \n",
    "        Key_Hash_Val  = self._Get_Hash_value(key)\n",
    "        if self.map[Key_Hash_Val] is None:\n",
    "            return False\n",
    "        \n",
    "        for i in range (0, len(self.map[Key_Hash_Val])):\n",
    "            if self.map[Key_Hash_Val][i][0] == key:\n",
    "                self.map[Key_Hash_Val].pop(i)\n",
    "                return True\n",
    "        return False\n",
    "    \n",
    "        \n",
    "    def Display_Hash_Table(self):\n",
    "                print('---HASH TABLE----')\n",
    "                for item in self.map:\n",
    "                        if item is not None:\n",
    "                                print(str(item))"
   ]
  },
  {
   "cell_type": "code",
   "execution_count": 111,
   "metadata": {},
   "outputs": [],
   "source": [
    "h = Hash_Map()"
   ]
  },
  {
   "cell_type": "code",
   "execution_count": 113,
   "metadata": {},
   "outputs": [
    {
     "data": {
      "text/plain": [
       "True"
      ]
     },
     "execution_count": 113,
     "metadata": {},
     "output_type": "execute_result"
    }
   ],
   "source": [
    "h.Add_Key('Dheeraj', '600082')\n",
    "h.Add_Key('Vicky', '502062')\n",
    "h.Add_Key('Banu', '426092')\n",
    "h.Add_Key('Sai', '504042')\n",
    "h.Add_Key('Santhosh', '600054')\n",
    "h.Add_Key('Binoy', '605009')\n",
    "h.Add_Key('Mike', '610077')\n",
    "h.Add_Key('Aditya', '600088')"
   ]
  },
  {
   "cell_type": "code",
   "execution_count": 114,
   "metadata": {},
   "outputs": [
    {
     "name": "stdout",
     "output_type": "stream",
     "text": [
      "---HASH TABLE----\n",
      "[]\n",
      "[]\n",
      "[]\n",
      "[['Sai', '504042'], ['Santhosh', '600054']]\n",
      "[]\n",
      "[['Aditya', '600088']]\n",
      "[['Vicky', '502062'], ['Banu', '426092'], ['Binoy', '605009']]\n",
      "[['Mike', '610077']]\n",
      "[['Dheeraj', '600082']]\n",
      "[]\n"
     ]
    }
   ],
   "source": [
    "h.Display_Hash_Table()"
   ]
  },
  {
   "cell_type": "code",
   "execution_count": 115,
   "metadata": {},
   "outputs": [
    {
     "data": {
      "text/plain": [
       "('610077', '600082')"
      ]
     },
     "execution_count": 115,
     "metadata": {},
     "output_type": "execute_result"
    }
   ],
   "source": [
    "h.Get_Table('Mike'),h.Get_Table('Dheeraj')"
   ]
  },
  {
   "cell_type": "code",
   "execution_count": 108,
   "metadata": {},
   "outputs": [
    {
     "data": {
      "text/plain": [
       "True"
      ]
     },
     "execution_count": 108,
     "metadata": {},
     "output_type": "execute_result"
    }
   ],
   "source": [
    "h.Delete('Mike')\n",
    "h.Delete('Aditya')"
   ]
  },
  {
   "cell_type": "code",
   "execution_count": 116,
   "metadata": {},
   "outputs": [
    {
     "name": "stdout",
     "output_type": "stream",
     "text": [
      "---HASH TABLE----\n",
      "[]\n",
      "[]\n",
      "[]\n",
      "[['Sai', '504042'], ['Santhosh', '600054']]\n",
      "[]\n",
      "[['Aditya', '600088']]\n",
      "[['Vicky', '502062'], ['Banu', '426092'], ['Binoy', '605009']]\n",
      "[['Mike', '610077']]\n",
      "[['Dheeraj', '600082']]\n",
      "[]\n"
     ]
    }
   ],
   "source": [
    "h.Display_Hash_Table()"
   ]
  },
  {
   "cell_type": "code",
   "execution_count": null,
   "metadata": {},
   "outputs": [],
   "source": []
  }
 ],
 "metadata": {
  "kernelspec": {
   "display_name": "Python 3",
   "language": "python",
   "name": "python3"
  },
  "language_info": {
   "codemirror_mode": {
    "name": "ipython",
    "version": 3
   },
   "file_extension": ".py",
   "mimetype": "text/x-python",
   "name": "python",
   "nbconvert_exporter": "python",
   "pygments_lexer": "ipython3",
   "version": "3.7.7"
  }
 },
 "nbformat": 4,
 "nbformat_minor": 4
}
